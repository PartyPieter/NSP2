{
 "cells": [
  {
   "cell_type": "code",
   "execution_count": null,
   "metadata": {},
   "outputs": [],
   "source": [
    "import pandas as pd\n",
    "import numpy as np\n",
    "import matplotlib.pyplot as plt\n",
    "from lmfit import models \n",
    "\n",
    "\n",
    "\n"
   ]
  },
  {
   "cell_type": "code",
   "execution_count": null,
   "metadata": {},
   "outputs": [],
   "source": [
    "begin_t = 0.0041\n",
    "x = 0.06\n",
    "v = []\n",
    "df = []\n",
    "#df = pd.read_csv(\"real_test_meting.csv\", sep = \"\\t\")\n",
    "\n",
    "\n",
    "#V_error = []\n",
    "\n",
    "#df[\"V_err\"] = df[\"V\"] * 0.001 + 0.044"
   ]
  },
  {
   "cell_type": "code",
   "execution_count": null,
   "metadata": {},
   "outputs": [],
   "source": [
    "cut_value = 30\n",
    "cut_values = []\n",
    "\n",
    "aantal_metingen = 2\n",
    "for i in range(aantal_metingen):\n",
    "\n",
    "    df.append(pd.read_csv(\"meting\" + i + \".csv\", sep = \"\\t\"))\n",
    "    time = df[i][df.columns[0]]\n",
    "    Amplitude = df[i][df.columns[1]]\n",
    "\n",
    "    for i in range (len(Amplitude) - 1):\n",
    "        delta_amp = Amplitude[i + 1] - Amplitude[i]\n",
    "        if delta_amp > cut_value and time[i] > 0.02:\n",
    "        cut_values.append[i]\n",
    "\n",
    "\n",
    "    print(cut_values)\n",
    "    t  = cut_values[0] - begin_t\n",
    "    v.append(2 * x / t)\n",
    "    plt.plot(time, Amplitude)\n",
    "\n"
   ]
  },
  {
   "cell_type": "code",
   "execution_count": null,
   "metadata": {},
   "outputs": [],
   "source": [
    "\n",
    "\n",
    "\n",
    "\n",
    "def V_fit_func(T, p1, p2, p3):\n",
    "  #  V = p1**p2 * T**p3\n",
    "    V = p1  + (p2 * T) ** p3\n",
    "    return V \n",
    "\n",
    "print(\"yoyoyo\")\n",
    "\n",
    "V_curve_model = models.Model(V_fit_func)\n",
    "\n",
    "V_fit_result = V_curve_model.fit(df[\"V\"], T=df[\"T\"], weights = 1 / df[\"V_err\"], p1 = 1, p2 = 2, p3 = -0.5)\n",
    "\n",
    "\n",
    "V_fit_result.plot(numpoints = 1000)\n",
    "plt.show()\n",
    "V_fit_result"
   ]
  }
 ],
 "metadata": {
  "kernelspec": {
   "display_name": "Python 3",
   "language": "python",
   "name": "python3"
  },
  "language_info": {
   "codemirror_mode": {
    "name": "ipython",
    "version": 3
   },
   "file_extension": ".py",
   "mimetype": "text/x-python",
   "name": "python",
   "nbconvert_exporter": "python",
   "pygments_lexer": "ipython3",
   "version": "3.11.4"
  }
 },
 "nbformat": 4,
 "nbformat_minor": 2
}
