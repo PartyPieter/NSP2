{
 "cells": [
  {
   "cell_type": "code",
   "execution_count": 1,
   "metadata": {},
   "outputs": [],
   "source": [
    "import pandas as pd\n",
    "import numpy as np\n",
    "import matplotlib.pyplot as plt\n",
    "from lmfit import models \n",
    "\n",
    "\n",
    "\n"
   ]
  },
  {
   "cell_type": "code",
   "execution_count": 2,
   "metadata": {},
   "outputs": [],
   "source": [
    "begin_t = 0.0041\n",
    "x = 0.06\n",
    "v = []\n",
    "df = []\n",
    "#df = pd.read_csv(\"real_test_meting.csv\", sep = \"\\t\")\n",
    "\n",
    "\n",
    "#V_error = []\n",
    "\n",
    "#df[\"V_err\"] = df[\"V\"] * 0.001 + 0.044"
   ]
  },
  {
   "cell_type": "code",
   "execution_count": null,
   "metadata": {},
   "outputs": [
    {
     "name": "stdout",
     "output_type": "stream",
     "text": [
      "4e-05\n",
      "120.000000\n"
     ]
    },
    {
     "ename": "TypeError",
     "evalue": "unsupported operand type(s) for -: 'str' and 'str'",
     "output_type": "error",
     "traceback": [
      "\u001b[1;31m---------------------------------------------------------------------------\u001b[0m",
      "\u001b[1;31mTypeError\u001b[0m                                 Traceback (most recent call last)",
      "Cell \u001b[1;32mIn[36], line 14\u001b[0m\n\u001b[0;32m     11\u001b[0m \u001b[38;5;28mprint\u001b[39m(Amplitude)\n\u001b[0;32m     13\u001b[0m \u001b[38;5;28;01mfor\u001b[39;00m i \u001b[38;5;129;01min\u001b[39;00m \u001b[38;5;28mrange\u001b[39m (\u001b[38;5;28mlen\u001b[39m(Amplitude) \u001b[38;5;241m-\u001b[39m \u001b[38;5;241m1\u001b[39m):\n\u001b[1;32m---> 14\u001b[0m     delta_amp \u001b[38;5;241m=\u001b[39m \u001b[43mAmplitude\u001b[49m\u001b[43m[\u001b[49m\u001b[43mi\u001b[49m\u001b[43m \u001b[49m\u001b[38;5;241;43m+\u001b[39;49m\u001b[43m \u001b[49m\u001b[38;5;241;43m1\u001b[39;49m\u001b[43m]\u001b[49m\u001b[43m \u001b[49m\u001b[38;5;241;43m-\u001b[39;49m\u001b[43m \u001b[49m\u001b[43mAmplitude\u001b[49m\u001b[43m[\u001b[49m\u001b[43mi\u001b[49m\u001b[43m]\u001b[49m\n\u001b[0;32m     15\u001b[0m     \u001b[38;5;28;01mif\u001b[39;00m delta_amp \u001b[38;5;241m>\u001b[39m cut_value \u001b[38;5;129;01mand\u001b[39;00m time[i] \u001b[38;5;241m>\u001b[39m \u001b[38;5;241m0.02\u001b[39m:\n\u001b[0;32m     16\u001b[0m      cut_values\u001b[38;5;241m.\u001b[39mappend[i]\n",
      "\u001b[1;31mTypeError\u001b[0m: unsupported operand type(s) for -: 'str' and 'str'"
     ]
    }
   ],
   "source": [
    "cut_value = 30\n",
    "cut_values = []\n",
    "\n",
    "aantal_metingen = 2\n",
    "for i in range(aantal_metingen):\n",
    "\n",
    "    df = pd.read_csv(\"meting_\" + str(i) + \".csv\", sep = \"\\t\")\n",
    "    time = df.columns[0]\n",
    "    Amplitude = df.columns[1]\n",
    "    \n",
    "    print(Amplitude)\n",
    "\n",
    "    for i in range (len(Amplitude) - 1):\n",
    "        delta_amp = Amplitude[i + 1] - Amplitude[i]\n",
    "        if delta_amp > cut_value and time[i] > 0.02:\n",
    "         cut_values.append[i]\n",
    "\n",
    "\n",
    "    print(cut_values)\n",
    "    t  = cut_values[0] - begin_t\n",
    "    v.append(2 * x / t)\n",
    "    plt.plot(time, Amplitude)\n",
    "\n"
   ]
  },
  {
   "cell_type": "code",
   "execution_count": null,
   "metadata": {},
   "outputs": [],
   "source": [
    "\n",
    "\n",
    "\n",
    "\n",
    "def V_fit_func(T, p1, p2, p3):\n",
    "  #  V = p1**p2 * T**p3\n",
    "    V = p1  + (p2 * T) ** p3\n",
    "    return V \n",
    "\n",
    "print(\"yoyoyo\")\n",
    "\n",
    "V_curve_model = models.Model(V_fit_func)\n",
    "\n",
    "V_fit_result = V_curve_model.fit(df[\"V\"], T=df[\"T\"], weights = 1 / df[\"V_err\"], p1 = 1, p2 = 2, p3 = -0.5)\n",
    "\n",
    "\n",
    "V_fit_result.plot(numpoints = 1000)\n",
    "plt.show()\n",
    "V_fit_result"
   ]
  }
 ],
 "metadata": {
  "kernelspec": {
   "display_name": "nsp2-5pR36dfy-py3.13",
   "language": "python",
   "name": "python3"
  },
  "language_info": {
   "codemirror_mode": {
    "name": "ipython",
    "version": 3
   },
   "file_extension": ".py",
   "mimetype": "text/x-python",
   "name": "python",
   "nbconvert_exporter": "python",
   "pygments_lexer": "ipython3",
   "version": "3.13.0"
  }
 },
 "nbformat": 4,
 "nbformat_minor": 2
}
