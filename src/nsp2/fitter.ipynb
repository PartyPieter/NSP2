{
 "cells": [
  {
   "cell_type": "code",
   "execution_count": null,
   "metadata": {},
   "outputs": [],
   "source": [
    "import pandas as pd\n",
    "import numpy as np\n",
    "import matplotlib.pyplot as plt\n",
    "from lmfit import models \n",
    "\n",
    "\n"
   ]
  },
  {
   "cell_type": "code",
   "execution_count": null,
   "metadata": {},
   "outputs": [],
   "source": [
    "df = pd.read_csv(\"V_T_dataset.csv\")\n",
    "\n",
    "V = df[\"V\"]\n",
    "T = df[\"T\"]\n",
    "V_error = []\n",
    "\n",
    "df[\"V_err\"] = df[\"V\"] * 0.001 + 0.044"
   ]
  },
  {
   "cell_type": "code",
   "execution_count": null,
   "metadata": {},
   "outputs": [],
   "source": [
    "\n",
    "\n",
    "\n",
    "\n",
    "def V_fit_func(T, p1, p2, p3):\n",
    "  #  V = p1**p2 * T**p3\n",
    "    V = p1 * p2 + T ** p3\n",
    "    return V \n",
    "\n",
    "print(\"yoyoyo\")\n",
    "\n",
    "V_curve_model = models.Model(V_fit_func)\n",
    "\n",
    "V_fit_result = V_curve_model.fit(df[\"V\"], T=df[\"T\"], weights = 1 / df[\"V_err\"], p1 = 1, p2 = 2, p3 = -0.5)\n",
    "\n",
    "\n",
    "V_fit_result.plot(numpoints = 1000)\n",
    "plt.show()\n",
    "print(V_fit_result)"
   ]
  }
 ],
 "metadata": {
  "kernelspec": {
   "display_name": "nsp2",
   "language": "python",
   "name": "python3"
  },
  "language_info": {
   "name": "python",
   "version": "3.13.0"
  }
 },
 "nbformat": 4,
 "nbformat_minor": 2
}
